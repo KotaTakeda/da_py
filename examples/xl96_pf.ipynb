{
  "cells": [
    {
      "attachments": {},
      "cell_type": "markdown",
      "metadata": {},
      "source": [
        "# PF\n",
        "未完成"
      ]
    },
    {
      "cell_type": "code",
      "execution_count": 14,
      "metadata": {},
      "outputs": [
        {
          "name": "stdout",
          "output_type": "stream",
          "text": [
            "The autoreload extension is already loaded. To reload it, use:\n",
            "  %reload_ext autoreload\n"
          ]
        }
      ],
      "source": [
        "%load_ext autoreload\n",
        "%autoreload 2"
      ]
    },
    {
      "cell_type": "code",
      "execution_count": 15,
      "metadata": {},
      "outputs": [],
      "source": [
        "import numpy as np\n",
        "import matplotlib.pyplot as plt\n",
        "from tqdm import tqdm\n",
        "from da.l96 import gen_l96\n",
        "from da.scheme import rk4\n",
        "from da.loss import loss_rms\n",
        "from da.visualize import plot_loss\n",
        "from da.pf import ParticleFilter as PF"
      ]
    },
    {
      "cell_type": "code",
      "execution_count": 16,
      "metadata": {},
      "outputs": [],
      "source": [
        "# Lorenz96の設定\n",
        "J = 40\n",
        "F = 8\n",
        "lorenz = gen_l96(F)\n",
        "\n",
        "# 同化step\n",
        "# 時間発展は0.01ごとに行う\n",
        "dt = 0.05\n",
        "\n",
        "# モデルの遷移関数(非線形)\n",
        "# 0.01ずつ時間発展させる\n",
        "# dtは同化step\n",
        "def M(x, dt):\n",
        "    for i in range(int(dt/0.01)):\n",
        "        x = rk4(lorenz, 0, x, 0.01)\n",
        "    return x\n",
        "\n",
        "# 単位行列\n",
        "I = np.eye(J)\n",
        "\n",
        "# 観測\n",
        "H = I\n",
        "\n",
        "# モデル誤差共分散, 最初は完全モデルを仮定\n",
        "Q = np.zeros((J, J))\n",
        "\n",
        "# 観測誤差共分散, 後で定数倍の変化をさせる.\n",
        "r = 1\n",
        "R = r*I\n",
        "\n",
        "# 観測値と真値\n",
        "end_step = -1 # 開発用\n",
        "x_true = np.load('x_true_l96.npy')[:end_step]\n",
        "y = np.load('x_obs_l96.npy')[:end_step]\n",
        "if not np.isclose(r, 1.0):\n",
        "    y = x_true + np.random.normal(loc=0, scale=np.sqrt(r), size=x_true.shape) # R = r*I\n",
        "\n",
        "# additive infaltion\n",
        "h = 0.7\n",
        "\n",
        "# KFの初期値\n",
        "seed = 1\n",
        "np.random.seed(seed)\n",
        "x_0 = x_true[np.random.randint(len(x_true)-1)]\n",
        "\n",
        "P_0 = 25*I"
      ]
    },
    {
      "cell_type": "code",
      "execution_count": 17,
      "metadata": {},
      "outputs": [
        {
          "name": "stderr",
          "output_type": "stream",
          "text": [
            "100%|██████████| 100/100 [01:22<00:00,  1.21it/s]\n"
          ]
        }
      ],
      "source": [
        "end = 100\n",
        "pf = PF(M, H, R, x_0, P_0, m=1000, seed=seed, N_thr=0.5, add_inflation=h)\n",
        "for y_obs in tqdm(y[:end]):\n",
        "    pf.forecast(dt)\n",
        "    pf.update(y_obs)\n",
        "\n",
        "x_assim = pf.x"
      ]
    },
    {
      "cell_type": "code",
      "execution_count": 18,
      "metadata": {},
      "outputs": [
        {
          "data": {
            "text/plain": [
              "Text(0.5, 1.0, 'RMSE')"
            ]
          },
          "execution_count": 18,
          "metadata": {},
          "output_type": "execute_result"
        },
        {
          "data": {
            "image/png": "[encoded data removed]",
            "text/plain": [
              "<Figure size 1000x200 with 1 Axes>"
            ]
          },
          "metadata": {},
          "output_type": "display_data"
        }
      ],
      "source": [
        "# plot rmse\n",
        "fig, ax = plt.subplots(figsize=(10, 2))\n",
        "plot_loss(x_true[:end], y[:end], loss_rms, ax=ax, label='obs', lw=0.3)\n",
        "plot_loss(x_true[:end], x_assim[:end], loss_rms, ax=ax, label='pf', lw=0.3)\n",
        "plt.plot(np.sqrt(pf.trP), lw=0.3, label='trP')\n",
        "ax.legend()\n",
        "ax.set_ylim([0, 5])\n",
        "ax.set_title(\"RMSE\")"
      ]
    }
  ],
  "metadata": {
    "kernelspec": {
      "display_name": "Python 3.9.6 ('.venv': venv)",
      "language": "python",
      "name": "python3"
    },
    "language_info": {
      "codemirror_mode": {
        "name": "ipython",
        "version": 3
      },
      "file_extension": ".py",
      "mimetype": "text/x-python",
      "name": "python",
      "nbconvert_exporter": "python",
      "pygments_lexer": "ipython3",
      "version": "3.10.6"
    },
    "orig_nbformat": 4,
    "vscode": {
      "interpreter": {
        "hash": "8e038285087c078a474925ace34c15e4110c486382b1f99276b82100a2cdffde"
      }
    }
  },
  "nbformat": 4,
  "nbformat_minor": 2
}
