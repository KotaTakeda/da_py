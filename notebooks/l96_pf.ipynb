{
  "cells": [
    {
      "attachments": {},
      "cell_type": "markdown",
      "metadata": {},
      "source": [
        "# PF\n",
        "未完成"
      ]
    },
    {
      "cell_type": "code",
      "execution_count": 491,
      "metadata": {},
      "outputs": [
        {
          "name": "stdout",
          "output_type": "stream",
          "text": [
            "The autoreload extension is already loaded. To reload it, use:\n",
            "  %reload_ext autoreload\n"
          ]
        }
      ],
      "source": [
        "%load_ext autoreload\n",
        "%autoreload 2"
      ]
    },
    {
      "cell_type": "code",
      "execution_count": 492,
      "metadata": {},
      "outputs": [],
      "source": [
        "import numpy as np\n",
        "import matplotlib.pyplot as plt\n",
        "from l96 import gen_l96, rk4\n",
        "from loss import loss_rms\n",
        "from visualize import plot_loss\n",
        "from pf import ParticleFilter as PF"
      ]
    },
    {
      "cell_type": "code",
      "execution_count": 499,
      "metadata": {},
      "outputs": [],
      "source": [
        "# Lorenz96の設定\n",
        "J = 40\n",
        "F = 8\n",
        "lorenz = gen_l96(F)\n",
        "\n",
        "# 同化step\n",
        "# 時間発展は0.01ごとに行う\n",
        "dt = 0.05\n",
        "\n",
        "# モデルの遷移関数(非線形)\n",
        "# 0.01ずつ時間発展させる\n",
        "# dtは同化step\n",
        "def M(x, dt):\n",
        "    for i in range(int(dt/0.01)):\n",
        "        x = rk4(lorenz, 0, x, 0.01)\n",
        "    return x\n",
        "\n",
        "# 単位行列\n",
        "I = np.eye(J)\n",
        "\n",
        "# 観測\n",
        "H = I\n",
        "\n",
        "# モデル誤差共分散, 最初は完全モデルを仮定\n",
        "Q = np.zeros((J, J))\n",
        "\n",
        "# 観測誤差共分散, 後で定数倍の変化をさせる.\n",
        "r = 1.0\n",
        "R = r*I\n",
        "\n",
        "# 観測値と真値\n",
        "end_step = -1 # 開発用\n",
        "x_true = np.load('../data/x_true.npy')[:end_step]\n",
        "y = np.load('../data/x_obs.npy')[:end_step]\n",
        "if not np.isclose(r, 1.0):\n",
        "    y = x_true + np.random.normal(loc=0, scale=r, size=x_true.shape) # R = r*I\n",
        "\n",
        "# KFの初期値\n",
        "seed = 1\n",
        "np.random.seed(seed)\n",
        "x_0 = x_true[np.random.randint(len(x_true)-1)]\n",
        "\n",
        "P_0 = 25*I"
      ]
    },
    {
      "cell_type": "code",
      "execution_count": 494,
      "metadata": {},
      "outputs": [
        {
          "data": {
            "text/plain": [
              "49.2195742210083"
            ]
          },
          "execution_count": 494,
          "metadata": {},
          "output_type": "execute_result"
        }
      ],
      "source": [
        "# x_0 = x_true[0]\n",
        "# P_0 = 0.1*I\n",
        "# (y[0] - H @ x_0) @ R @ (y[0] - H @ x_0)"
      ]
    },
    {
      "cell_type": "code",
      "execution_count": 508,
      "metadata": {},
      "outputs": [],
      "source": [
        "end = 21\n",
        "pf = PF(M, H, R, x_0, P_0, m=10000, seed=seed)\n",
        "for y_obs in y[:end]:\n",
        "    pf.forecast(dt)\n",
        "    pf.update(y_obs)\n",
        "\n",
        "x_assim = pf.x"
      ]
    },
    {
      "cell_type": "code",
      "execution_count": 509,
      "metadata": {},
      "outputs": [
        {
          "data": {
            "text/plain": [
              "[31.611303359347968,\n",
              " 31.200985391242156,\n",
              " 32.21003652912974,\n",
              " 33.10922054186307,\n",
              " 33.31401337974246,\n",
              " 32.95613555895584,\n",
              " 32.188878849923285,\n",
              " 31.365538058827692,\n",
              " 30.540360069454053,\n",
              " 29.709900605273255,\n",
              " 28.85888312886165,\n",
              " 28.152611619879757,\n",
              " 27.407056891961542,\n",
              " 26.77372610928761,\n",
              " 26.188892970074114,\n",
              " 25.666468091679015,\n",
              " 25.186835291692535,\n",
              " 24.77508520048301,\n",
              " 24.47768352357325,\n",
              " 24.178778140873245,\n",
              " 23.96666935262877]"
            ]
          },
          "execution_count": 509,
          "metadata": {},
          "output_type": "execute_result"
        }
      ],
      "source": [
        "pf.trP"
      ]
    },
    {
      "cell_type": "code",
      "execution_count": 511,
      "metadata": {},
      "outputs": [
        {
          "name": "stdout",
          "output_type": "stream",
          "text": [
            "mean: 0.9869\n",
            "mean: 3.9357\n"
          ]
        },
        {
          "data": {
            "text/plain": [
              "<matplotlib.legend.Legend at 0x2c5a84a60>"
            ]
          },
          "execution_count": 511,
          "metadata": {},
          "output_type": "execute_result"
        },
        {
          "data": {
            "image/png": "[encoded data removed]",
            "text/plain": [
              "<Figure size 1000x200 with 1 Axes>"
            ]
          },
          "metadata": {},
          "output_type": "display_data"
        }
      ],
      "source": [
        "fig, ax = plt.subplots(figsize=(10, 2))\n",
        "plot_loss(x_true[:end], y[:end], loss_rms, ax=ax, label='obs', lw=0.3)\n",
        "plot_loss(x_true[:end], x_assim[:end], loss_rms, ax=ax, label='pf', lw=0.3)\n",
        "ax.legend()\n",
        "# ax.set_ylim([0, 2])"
      ]
    },
    {
      "cell_type": "code",
      "execution_count": null,
      "metadata": {},
      "outputs": [],
      "source": []
    }
  ],
  "metadata": {
    "kernelspec": {
      "display_name": "Python 3.9.6 ('.venv': venv)",
      "language": "python",
      "name": "python3"
    },
    "language_info": {
      "codemirror_mode": {
        "name": "ipython",
        "version": 3
      },
      "file_extension": ".py",
      "mimetype": "text/x-python",
      "name": "python",
      "nbconvert_exporter": "python",
      "pygments_lexer": "ipython3",
      "version": "3.10.6"
    },
    "orig_nbformat": 4,
    "vscode": {
      "interpreter": {
        "hash": "8e038285087c078a474925ace34c15e4110c486382b1f99276b82100a2cdffde"
      }
    }
  },
  "nbformat": 4,
  "nbformat_minor": 2
}
